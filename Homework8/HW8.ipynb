{
 "cells": [
  {
   "cell_type": "code",
   "execution_count": 2,
   "id": "d8bc9bc2-939d-4401-b8ab-40b7bba7ab7d",
   "metadata": {
    "execution": {
     "iopub.execute_input": "2023-11-18T20:44:59.954072Z",
     "iopub.status.busy": "2023-11-18T20:44:59.953351Z",
     "iopub.status.idle": "2023-11-18T20:44:59.957392Z",
     "shell.execute_reply": "2023-11-18T20:44:59.956599Z",
     "shell.execute_reply.started": "2023-11-18T20:44:59.954045Z"
    },
    "tags": []
   },
   "outputs": [],
   "source": [
    "import tensorflow as tf\n",
    "from tensorflow import keras"
   ]
  },
  {
   "cell_type": "code",
   "execution_count": 23,
   "id": "80db7529-e81e-4c2c-b22a-da7e09b5fd9f",
   "metadata": {
    "execution": {
     "iopub.execute_input": "2023-11-18T21:08:30.997748Z",
     "iopub.status.busy": "2023-11-18T21:08:30.997006Z",
     "iopub.status.idle": "2023-11-18T21:08:31.029374Z",
     "shell.execute_reply": "2023-11-18T21:08:31.028694Z",
     "shell.execute_reply.started": "2023-11-18T21:08:30.997718Z"
    },
    "tags": []
   },
   "outputs": [],
   "source": [
    "model = keras.models.Sequential([\n",
    "    keras.layers.Conv2D(32, (3,3), activation='relu', input_shape=(150, 150, 3)),\n",
    "    keras.layers.MaxPooling2D((2,2)),\n",
    "    keras.layers.Flatten(),\n",
    "    keras.layers.Dense(64, activation='relu'),\n",
    "    keras.layers.Dense(1, activation = 'sigmoid')\n",
    "])"
   ]
  },
  {
   "cell_type": "code",
   "execution_count": 31,
   "id": "f8b7a8f7-707d-4330-92be-749a4e9c0908",
   "metadata": {
    "execution": {
     "iopub.execute_input": "2023-11-18T21:14:17.303294Z",
     "iopub.status.busy": "2023-11-18T21:14:17.302914Z",
     "iopub.status.idle": "2023-11-18T21:14:17.333806Z",
     "shell.execute_reply": "2023-11-18T21:14:17.333239Z",
     "shell.execute_reply.started": "2023-11-18T21:14:17.303268Z"
    },
    "tags": []
   },
   "outputs": [],
   "source": [
    "inputs = keras.Input(shape=(150, 150, 3))\n",
    "\n",
    "conv =  keras.layers.Conv2D(32, (3,3), activation='relu')(inputs)\n",
    "\n",
    "pooling =  keras.layers.MaxPooling2D((2,2))(conv)\n",
    "\n",
    "flat = keras.layers.Flatten()(pooling)\n",
    "\n",
    "dense = keras.layers.Dense(64, activation='relu')(flat)\n",
    "\n",
    "outputs = keras.layers.Dense(1)(dense)\n",
    "\n",
    "model = keras.Model(inputs, outputs)"
   ]
  },
  {
   "cell_type": "code",
   "execution_count": 32,
   "id": "10e21fa0-889b-4a84-a5d0-595b5fe1b835",
   "metadata": {
    "execution": {
     "iopub.execute_input": "2023-11-18T21:14:21.970610Z",
     "iopub.status.busy": "2023-11-18T21:14:21.970234Z",
     "iopub.status.idle": "2023-11-18T21:14:21.980855Z",
     "shell.execute_reply": "2023-11-18T21:14:21.980263Z",
     "shell.execute_reply.started": "2023-11-18T21:14:21.970585Z"
    },
    "tags": []
   },
   "outputs": [],
   "source": [
    "\n",
    "optimizer = keras.optimizers.SGD(learning_rate=0.002, momentum=0.8)\n",
    "\n",
    "loss = keras.losses.BinaryCrossentropy(from_logits=True)\n",
    "\n",
    "model.compile(optimizer=optimizer, loss=loss, metrics=['accuracy'])"
   ]
  },
  {
   "cell_type": "code",
   "execution_count": 33,
   "id": "ce7b9dab-b750-4c1d-bab2-c9e14f014543",
   "metadata": {
    "execution": {
     "iopub.execute_input": "2023-11-18T21:14:24.101510Z",
     "iopub.status.busy": "2023-11-18T21:14:24.101088Z",
     "iopub.status.idle": "2023-11-18T21:14:24.118409Z",
     "shell.execute_reply": "2023-11-18T21:14:24.117816Z",
     "shell.execute_reply.started": "2023-11-18T21:14:24.101485Z"
    },
    "tags": []
   },
   "outputs": [
    {
     "name": "stdout",
     "output_type": "stream",
     "text": [
      "Model: \"model\"\n",
      "_________________________________________________________________\n",
      " Layer (type)                Output Shape              Param #   \n",
      "=================================================================\n",
      " input_1 (InputLayer)        [(None, 150, 150, 3)]     0         \n",
      "                                                                 \n",
      " conv2d_5 (Conv2D)           (None, 148, 148, 32)      896       \n",
      "                                                                 \n",
      " max_pooling2d_5 (MaxPooling  (None, 74, 74, 32)       0         \n",
      " 2D)                                                             \n",
      "                                                                 \n",
      " flatten_5 (Flatten)         (None, 175232)            0         \n",
      "                                                                 \n",
      " dense_10 (Dense)            (None, 64)                11214912  \n",
      "                                                                 \n",
      " dense_11 (Dense)            (None, 1)                 65        \n",
      "                                                                 \n",
      "=================================================================\n",
      "Total params: 11,215,873\n",
      "Trainable params: 11,215,873\n",
      "Non-trainable params: 0\n",
      "_________________________________________________________________\n"
     ]
    }
   ],
   "source": [
    "model.summary()"
   ]
  },
  {
   "cell_type": "code",
   "execution_count": 15,
   "id": "e3bf4a2e-276f-4836-b6a6-70415b5dce08",
   "metadata": {
    "execution": {
     "iopub.execute_input": "2023-11-18T21:04:52.747212Z",
     "iopub.status.busy": "2023-11-18T21:04:52.746775Z",
     "iopub.status.idle": "2023-11-18T21:04:52.751454Z",
     "shell.execute_reply": "2023-11-18T21:04:52.750790Z",
     "shell.execute_reply.started": "2023-11-18T21:04:52.747187Z"
    },
    "tags": []
   },
   "outputs": [],
   "source": [
    "from tensorflow.keras.preprocessing.image import ImageDataGenerator"
   ]
  },
  {
   "cell_type": "code",
   "execution_count": 37,
   "id": "6951b3e9-12c0-4320-b21f-5b60028b7196",
   "metadata": {
    "execution": {
     "iopub.execute_input": "2023-11-18T21:18:42.107035Z",
     "iopub.status.busy": "2023-11-18T21:18:42.106610Z",
     "iopub.status.idle": "2023-11-18T21:18:42.232360Z",
     "shell.execute_reply": "2023-11-18T21:18:42.231673Z",
     "shell.execute_reply.started": "2023-11-18T21:18:42.107003Z"
    },
    "tags": []
   },
   "outputs": [
    {
     "name": "stdout",
     "output_type": "stream",
     "text": [
      "Found 3677 images belonging to 2 classes.\n",
      "Found 918 images belonging to 2 classes.\n"
     ]
    }
   ],
   "source": [
    "test_gen = ImageDataGenerator(rescale=1./255)\n",
    "\n",
    "train_gen = ImageDataGenerator(rescale=1./255,\n",
    "                              rotation_range=50,\n",
    "                               width_shift_range=0.1,\n",
    "                               height_shift_range=0.1,\n",
    "                               zoom_range=0.1,\n",
    "                               horizontal_flip=True,\n",
    "                               fill_mode='nearest')\n",
    "\n",
    "train_generator = train_gen.flow_from_directory(\n",
    "    './data/train',\n",
    "    target_size=(150, 150),\n",
    "    batch_size=32,\n",
    "    shuffle=True,\n",
    "    class_mode= \"binary\"\n",
    ")\n",
    "test_generator = test_gen.flow_from_directory(\n",
    "     './data/test',\n",
    "    target_size=(150, 150),\n",
    "    batch_size=32,\n",
    "    shuffle=True,\n",
    "    class_mode= \"binary\"\n",
    ")"
   ]
  },
  {
   "cell_type": "code",
   "execution_count": 38,
   "id": "ce9c4366-c374-4c8a-8c38-787f3fff9579",
   "metadata": {
    "execution": {
     "iopub.execute_input": "2023-11-18T21:18:58.225414Z",
     "iopub.status.busy": "2023-11-18T21:18:58.225012Z",
     "iopub.status.idle": "2023-11-18T21:22:47.727553Z",
     "shell.execute_reply": "2023-11-18T21:22:47.726922Z",
     "shell.execute_reply.started": "2023-11-18T21:18:58.225374Z"
    },
    "tags": []
   },
   "outputs": [
    {
     "name": "stdout",
     "output_type": "stream",
     "text": [
      "Epoch 1/10\n",
      "115/115 [==============================] - 23s 200ms/step - loss: 0.5183 - accuracy: 0.7329 - val_loss: 0.5099 - val_accuracy: 0.7397\n",
      "Epoch 2/10\n",
      "115/115 [==============================] - 23s 199ms/step - loss: 0.5096 - accuracy: 0.7259 - val_loss: 0.5428 - val_accuracy: 0.7571\n",
      "Epoch 3/10\n",
      "115/115 [==============================] - 23s 198ms/step - loss: 0.5010 - accuracy: 0.7354 - val_loss: 0.5376 - val_accuracy: 0.7625\n",
      "Epoch 4/10\n",
      "115/115 [==============================] - 23s 200ms/step - loss: 0.4922 - accuracy: 0.7601 - val_loss: 0.5022 - val_accuracy: 0.7702\n",
      "Epoch 5/10\n",
      "115/115 [==============================] - 23s 200ms/step - loss: 0.4854 - accuracy: 0.7580 - val_loss: 0.5099 - val_accuracy: 0.7723\n",
      "Epoch 6/10\n",
      "115/115 [==============================] - 23s 199ms/step - loss: 0.4813 - accuracy: 0.7550 - val_loss: 0.5143 - val_accuracy: 0.7810\n",
      "Epoch 7/10\n",
      "115/115 [==============================] - 23s 200ms/step - loss: 0.4817 - accuracy: 0.7637 - val_loss: 0.4566 - val_accuracy: 0.7930\n",
      "Epoch 8/10\n",
      "115/115 [==============================] - 23s 199ms/step - loss: 0.4827 - accuracy: 0.7661 - val_loss: 0.4655 - val_accuracy: 0.7908\n",
      "Epoch 9/10\n",
      "115/115 [==============================] - 23s 200ms/step - loss: 0.4737 - accuracy: 0.7724 - val_loss: 0.4705 - val_accuracy: 0.7930\n",
      "Epoch 10/10\n",
      "115/115 [==============================] - 23s 197ms/step - loss: 0.4708 - accuracy: 0.7639 - val_loss: 0.4496 - val_accuracy: 0.7985\n"
     ]
    }
   ],
   "source": [
    "history= model.fit(\n",
    "    train_generator,\n",
    "    epochs=10,\n",
    "    validation_data=test_generator\n",
    ")"
   ]
  },
  {
   "cell_type": "code",
   "execution_count": 28,
   "id": "dd3be3da-c4eb-421d-a702-6e68053aa6ee",
   "metadata": {
    "execution": {
     "iopub.execute_input": "2023-11-18T21:10:33.535627Z",
     "iopub.status.busy": "2023-11-18T21:10:33.535233Z",
     "iopub.status.idle": "2023-11-18T21:10:33.538773Z",
     "shell.execute_reply": "2023-11-18T21:10:33.538133Z",
     "shell.execute_reply.started": "2023-11-18T21:10:33.535602Z"
    },
    "tags": []
   },
   "outputs": [],
   "source": [
    "import numpy as np"
   ]
  },
  {
   "cell_type": "markdown",
   "id": "7fa0e6bc-e6ba-455d-ab20-1c116ae62013",
   "metadata": {},
   "source": [
    " Before augmentation"
   ]
  },
  {
   "cell_type": "code",
   "execution_count": 35,
   "id": "7bcbc3ef-4861-4f53-8536-94d3990aee18",
   "metadata": {
    "execution": {
     "iopub.execute_input": "2023-11-18T21:15:59.836957Z",
     "iopub.status.busy": "2023-11-18T21:15:59.836554Z",
     "iopub.status.idle": "2023-11-18T21:15:59.842048Z",
     "shell.execute_reply": "2023-11-18T21:15:59.841308Z",
     "shell.execute_reply.started": "2023-11-18T21:15:59.836930Z"
    },
    "tags": []
   },
   "outputs": [
    {
     "data": {
      "text/plain": [
       "0.6581452190876007"
      ]
     },
     "execution_count": 35,
     "metadata": {},
     "output_type": "execute_result"
    }
   ],
   "source": [
    "np.median(history.history['accuracy'])"
   ]
  },
  {
   "cell_type": "code",
   "execution_count": 36,
   "id": "ec36ecba-89e2-461d-aa9f-11228914155b",
   "metadata": {
    "execution": {
     "iopub.execute_input": "2023-11-18T21:16:32.459715Z",
     "iopub.status.busy": "2023-11-18T21:16:32.459330Z",
     "iopub.status.idle": "2023-11-18T21:16:32.465047Z",
     "shell.execute_reply": "2023-11-18T21:16:32.464240Z",
     "shell.execute_reply.started": "2023-11-18T21:16:32.459689Z"
    },
    "tags": []
   },
   "outputs": [
    {
     "data": {
      "text/plain": [
       "0.07454317234279748"
      ]
     },
     "execution_count": 36,
     "metadata": {},
     "output_type": "execute_result"
    }
   ],
   "source": [
    "np.std(history.history['loss'])"
   ]
  },
  {
   "cell_type": "markdown",
   "id": "7327c99d-8d2d-49e3-8fff-b74cfdd305e8",
   "metadata": {},
   "source": [
    "After augmentation"
   ]
  },
  {
   "cell_type": "code",
   "execution_count": 42,
   "id": "0ae3e7a0-cb09-4d98-b4f3-44916807606f",
   "metadata": {
    "execution": {
     "iopub.execute_input": "2023-11-18T21:24:25.061624Z",
     "iopub.status.busy": "2023-11-18T21:24:25.061246Z",
     "iopub.status.idle": "2023-11-18T21:24:25.066833Z",
     "shell.execute_reply": "2023-11-18T21:24:25.066015Z",
     "shell.execute_reply.started": "2023-11-18T21:24:25.061597Z"
    },
    "tags": []
   },
   "outputs": [
    {
     "data": {
      "text/plain": [
       "0.49587382674217223"
      ]
     },
     "execution_count": 42,
     "metadata": {},
     "output_type": "execute_result"
    }
   ],
   "source": [
    "np.mean(history.history['val_loss'])"
   ]
  },
  {
   "cell_type": "code",
   "execution_count": 47,
   "id": "4340c712-4ee3-4500-b128-c4a7c2881e33",
   "metadata": {
    "execution": {
     "iopub.execute_input": "2023-11-18T21:26:10.932070Z",
     "iopub.status.busy": "2023-11-18T21:26:10.931683Z",
     "iopub.status.idle": "2023-11-18T21:26:10.937405Z",
     "shell.execute_reply": "2023-11-18T21:26:10.936516Z",
     "shell.execute_reply.started": "2023-11-18T21:26:10.932046Z"
    },
    "tags": []
   },
   "outputs": [
    {
     "data": {
      "text/plain": [
       "0.7912853956222534"
      ]
     },
     "execution_count": 47,
     "metadata": {},
     "output_type": "execute_result"
    }
   ],
   "source": [
    "np.mean(history.history['val_accuracy'][5:])"
   ]
  }
 ],
 "metadata": {
  "kernelspec": {
   "display_name": "saturn (Python 3)",
   "language": "python",
   "name": "python3"
  },
  "language_info": {
   "codemirror_mode": {
    "name": "ipython",
    "version": 3
   },
   "file_extension": ".py",
   "mimetype": "text/x-python",
   "name": "python",
   "nbconvert_exporter": "python",
   "pygments_lexer": "ipython3",
   "version": "3.9.15"
  }
 },
 "nbformat": 4,
 "nbformat_minor": 5
}
